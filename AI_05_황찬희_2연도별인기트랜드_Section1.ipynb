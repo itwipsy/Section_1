{
  "nbformat": 4,
  "nbformat_minor": 0,
  "metadata": {
    "colab": {
      "name": "Ai_05_황찬희_연도별인기트랜드_Section1.ipynb",
      "private_outputs": true,
      "provenance": [],
      "collapsed_sections": []
    },
    "kernelspec": {
      "name": "python3",
      "display_name": "Python 3"
    },
    "language_info": {
      "name": "python"
    }
  },
  "cells": [
    {
      "cell_type": "code",
      "metadata": {
        "id": "ea-Bbb9siS4M"
      },
      "source": [
        "import pandas as pd\n",
        "import requests\n",
        "\n",
        "url = \"https://ds-lecture-data.s3.ap-northeast-2.amazonaws.com/datasets/vgames2.csv\"\n",
        "\n",
        "c = pd.read_csv(url)"
      ],
      "execution_count": null,
      "outputs": []
    },
    {
      "cell_type": "code",
      "metadata": {
        "id": "TKVs8st8izkZ"
      },
      "source": [
        "c.head()"
      ],
      "execution_count": null,
      "outputs": []
    },
    {
      "cell_type": "code",
      "metadata": {
        "id": "TUlUzIWMjrBK"
      },
      "source": [
        "import pandas as pd\n",
        "import numpy as np\n",
        "from pandas import DataFrame\n",
        "YG=c[['Year','Genre']].dropna(axis=0)\n",
        "YG.set_index('Year').sort_index(ascending=True)\n",
        "# pd.set_option('display.max_rows', None)\n",
        "YG.value_counts().head()\n",
        "# YG"
      ],
      "execution_count": null,
      "outputs": []
    },
    {
      "cell_type": "code",
      "metadata": {
        "id": "6WT02LjH2Gd_"
      },
      "source": [
        "def func(x):\n",
        "    if x>= 0 and x <=21:\n",
        "        return x+2000\n",
        "    elif x >21 and x< 100:\n",
        "         return x+1900\n",
        "    else:\n",
        "        return x\n",
        "YG['Year'] = YG['Year'].apply(func)\n"
      ],
      "execution_count": null,
      "outputs": []
    },
    {
      "cell_type": "code",
      "metadata": {
        "id": "9z-Sl2uWCCJo"
      },
      "source": [
        "YG_=pd.crosstab(YG['Year'],YG['Genre'])\n",
        "YG_for_growth=YG_.replace(0,1)\n",
        "YG_for_growth['total']=YG_.sum(axis=1)\n",
        "# YG_['total']=YG_.sum(axis=1)\n"
      ],
      "execution_count": null,
      "outputs": []
    },
    {
      "cell_type": "code",
      "metadata": {
        "id": "GXOOruZKTd_B"
      },
      "source": [
        "from scipy import stats\n",
        "\n",
        "fvalue, pvalue = stats.f_oneway(YG_['Action'], YG_['Adventure'], YG_['Fighting'],YG_['Misc'],YG_['Platform'],YG_['Puzzle'],YG_['Racing'],YG_['Role-Playing'],YG_['Shooter'],YG_['Simulation'],YG_['Sports'],YG_['Strategy'])\n",
        "pvalue"
      ],
      "execution_count": null,
      "outputs": []
    },
    {
      "cell_type": "markdown",
      "metadata": {
        "id": "V8cxF01rDtXR"
      },
      "source": [
        "P값이 매우 작은것으로 보아 평균 게임 장르의 인기도는 같지가 않다. "
      ]
    },
    {
      "cell_type": "code",
      "metadata": {
        "id": "chyjfMO_jGGM"
      },
      "source": [
        "\n",
        "import matplotlib.pylab as plt\n",
        "fig, ax = plt.subplots()\n",
        "\n",
        "for col in YG_.columns:\n",
        "    ls = \":\" if col == \"Action\" or col==\"Adventure\" else \"-\"\n",
        "    ax.plot(YG_[col], ls=ls, label=col)\n",
        "\n",
        "ax.legend()"
      ],
      "execution_count": null,
      "outputs": []
    },
    {
      "cell_type": "code",
      "metadata": {
        "id": "vviRSkvFJoYx"
      },
      "source": [
        "YG_['total']=YG_.sum(axis=1)\n",
        "import matplotlib.pylab as plt\n",
        "fig, ax = plt.subplots()\n",
        "\n",
        "for col in YG_.columns:\n",
        "    ls = \":\" if col == \"Action\" or col==\"Adventure\" else \"-\"\n",
        "    ax.plot(YG_[col], ls=ls, label=col)\n",
        "\n",
        "ax.legend()"
      ],
      "execution_count": null,
      "outputs": []
    },
    {
      "cell_type": "code",
      "metadata": {
        "id": "3MpaIp8l1f-2"
      },
      "source": [
        "YG_for_growth=(YG_for_growth.pct_change()*100).fillna(0)\n",
        "YG_for_growth.head()"
      ],
      "execution_count": null,
      "outputs": []
    },
    {
      "cell_type": "code",
      "metadata": {
        "id": "NH8yBvOFkbWn"
      },
      "source": [
        "Action=np.corrcoef(YG_for_growth['Action'],YG_for_growth['total'])[0][1]\n",
        "Adventure=np.corrcoef(YG_for_growth['Adventure'],YG_for_growth['total'])[0][1]\n",
        "Fighting=np.corrcoef(YG_for_growth['Fighting'],YG_for_growth['total'])[0][1]\n",
        "Misc=np.corrcoef(YG_for_growth['Misc'],YG_for_growth['total'])[0][1]\n",
        "Platform=np.corrcoef(YG_for_growth['Platform'],YG_for_growth['total'])[0][1]\n",
        "Puzzle=np.corrcoef(YG_for_growth['Puzzle'],YG_for_growth['total'])[0][1]\n",
        "Racing=np.corrcoef(YG_for_growth['Racing'],YG_for_growth['total'])[0][1]\n",
        "Role_Playing=np.corrcoef(YG_for_growth['Role-Playing'],YG_for_growth['total'])[0][1]\n",
        "Shooter=np.corrcoef(YG_for_growth['Shooter'],YG_for_growth['total'])[0][1]\n",
        "Simulation=np.corrcoef(YG_for_growth['Simulation'],YG_for_growth['total'])[0][1]\n",
        "Sports=np.corrcoef(YG_for_growth['Sports'],YG_for_growth['total'])[0][1]\n",
        "Strategy=np.corrcoef(YG_for_growth['Strategy'],YG_for_growth['total'])[0][1]\n",
        "print(\"Action=\",Action,\",Adventure=\",Adventure,\",Fighting=\",Fighting,\",Misc=\",Misc,\",Puzzle=\",Puzzle,\",Role_Playing=\",Role_Playing)\n",
        "print(\"Racing=\",Racing,\",Shooter=\",Shooter,\",Simulation=\",Simulation,\",Sports=\",Sports,\",Strategy=\",Strategy)"
      ],
      "execution_count": null,
      "outputs": []
    },
    {
      "cell_type": "markdown",
      "metadata": {
        "id": "Ua1IdcvVvITd"
      },
      "source": [
        ""
      ]
    },
    {
      "cell_type": "markdown",
      "metadata": {
        "id": "3m5oVAp7sq_B"
      },
      "source": [
        "#절대값 0.0~0.2 : 거의 무시\n",
        "#절대값 0.2~0.4 : 약한 상관관계\n",
        "#절대값 0.4~0.7 : 조금 높은 상관관계\n",
        "#절대값 0.7~0.9 : 강한 상관관계\n",
        "#절대값 0.9~1.0 : 매우 강한 상관관계\n",
        " "
      ]
    },
    {
      "cell_type": "markdown",
      "metadata": {
        "id": "Bc8TKmsKty6J"
      },
      "source": [
        "# Action > Sports> Shooter 순으로  절대값의 증가량과 뚜렷한 상광관계가 있다"
      ]
    },
    {
      "cell_type": "markdown",
      "metadata": {
        "id": "Pm1d7zkuvM_b"
      },
      "source": [
        "#게임의 트렌드가 액션,스포츠,슈터 순으로 있는것으로 파악됨"
      ]
    }
  ]
}